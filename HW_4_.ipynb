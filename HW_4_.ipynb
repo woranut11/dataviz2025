{
  "nbformat": 4,
  "nbformat_minor": 0,
  "metadata": {
    "colab": {
      "provenance": [],
      "include_colab_link": true
    },
    "kernelspec": {
      "name": "python3",
      "display_name": "Python 3"
    },
    "language_info": {
      "name": "python"
    }
  },
  "cells": [
    {
      "cell_type": "markdown",
      "metadata": {
        "id": "view-in-github",
        "colab_type": "text"
      },
      "source": [
        "<a href=\"https://colab.research.google.com/github/woranut11/dataviz2025/blob/main/HW_4_.ipynb\" target=\"_parent\"><img src=\"https://colab.research.google.com/assets/colab-badge.svg\" alt=\"Open In Colab\"/></a>"
      ]
    },
    {
      "cell_type": "markdown",
      "source": [
        "# HW 4  ยอดรวมทั้ง 5 เดือน เมืองไหนมีจำนวนผู้ถูกเรียกค้นที่เป็นคน Asia น้อยที่สุด และ มากที่สุด"
      ],
      "metadata": {
        "id": "5qY30-eKeWK4"
      }
    },
    {
      "cell_type": "code",
      "execution_count": 1,
      "metadata": {
        "id": "bSC91NdH47_R"
      },
      "outputs": [],
      "source": [
        "import pandas as pd\n",
        "import os"
      ]
    },
    {
      "cell_type": "code",
      "source": [
        "from google.colab import drive\n",
        "drive.mount('/content/drive')"
      ],
      "metadata": {
        "id": "rONul04Tspkt",
        "outputId": "977d6940-945a-469e-cd74-9f23f82e4b6f",
        "colab": {
          "base_uri": "https://localhost:8080/"
        }
      },
      "execution_count": 2,
      "outputs": [
        {
          "output_type": "stream",
          "name": "stdout",
          "text": [
            "Mounted at /content/drive\n"
          ]
        }
      ]
    },
    {
      "cell_type": "markdown",
      "source": [
        "##2025-01"
      ],
      "metadata": {
        "id": "Dmwi5-kv6EAn"
      }
    },
    {
      "cell_type": "code",
      "source": [
        "data_all_01 = '/content/drive/MyDrive/python2025/Data/2025-01'"
      ],
      "metadata": {
        "id": "aQV68fCmzQV6"
      },
      "execution_count": 28,
      "outputs": []
    },
    {
      "cell_type": "code",
      "source": [
        "csv_01 = [f for f in os.listdir(data_all_01) if f.endswith('.csv')]\n",
        "select_01 = [file for file in csv_01 if 'stop-and-search' in file]\n",
        "len(select_01)\n",
        "\n",
        " # มี 38 เมือง"
      ],
      "metadata": {
        "colab": {
          "base_uri": "https://localhost:8080/"
        },
        "id": "DQnySbLvIl2g",
        "outputId": "8b211b31-108c-420d-e3ea-2807c585a2d9"
      },
      "execution_count": 31,
      "outputs": [
        {
          "output_type": "execute_result",
          "data": {
            "text/plain": [
              "38"
            ]
          },
          "metadata": {},
          "execution_count": 31
        }
      ]
    },
    {
      "cell_type": "markdown",
      "source": [
        "## 2025-02"
      ],
      "metadata": {
        "id": "4RdM7Ezq70yf"
      }
    },
    {
      "cell_type": "code",
      "source": [
        "data_all_02 = '/content/drive/MyDrive/python2025/Data/2025-02'"
      ],
      "metadata": {
        "id": "rik9YMlQ8BnC"
      },
      "execution_count": 34,
      "outputs": []
    },
    {
      "cell_type": "code",
      "source": [
        "csv_files_02 = [f for f in os.listdir(data_all_02) if f.endswith('.csv')]"
      ],
      "metadata": {
        "id": "OY4-SV2j8BnE"
      },
      "execution_count": 36,
      "outputs": []
    },
    {
      "cell_type": "code",
      "source": [
        "select_files_02 = [file for file in csv_files_02 if 'stop-and-search' in file]\n",
        "len(select_files_02)\n",
        "\n",
        " # มี 38 เมือง"
      ],
      "metadata": {
        "colab": {
          "base_uri": "https://localhost:8080/"
        },
        "outputId": "b1483f4d-6c49-47a1-e65a-24d3352cdcc1",
        "id": "ftbQFUpL8BnE"
      },
      "execution_count": 37,
      "outputs": [
        {
          "output_type": "execute_result",
          "data": {
            "text/plain": [
              "38"
            ]
          },
          "metadata": {},
          "execution_count": 37
        }
      ]
    },
    {
      "cell_type": "markdown",
      "source": [
        "##  2025-03"
      ],
      "metadata": {
        "id": "wPSX6AYl8TlA"
      }
    },
    {
      "cell_type": "code",
      "metadata": {
        "id": "GtDFbX-8SIS"
      },
      "source": [
        "data_all_03 = '/content/drive/MyDrive/python2025/Data/2025-03'"
      ],
      "execution_count": 41,
      "outputs": []
    },
    {
      "cell_type": "code",
      "source": [
        "csv_files_03 = [f for f in os.listdir(data_all_03) if f.endswith('.csv')]"
      ],
      "metadata": {
        "id": "qQFJ7_Ig8SIT"
      },
      "execution_count": 42,
      "outputs": []
    },
    {
      "cell_type": "code",
      "source": [
        "select_files_03 = [file for file in csv_files_03 if 'stop-and-search' in file]\n",
        "len(select_files_03)\n",
        "\n",
        " # มี 37 เมือง"
      ],
      "metadata": {
        "colab": {
          "base_uri": "https://localhost:8080/"
        },
        "outputId": "4e625685-595d-4da1-ebb7-8dbbb4129fcf",
        "id": "aq8p1uAx8SIU"
      },
      "execution_count": 43,
      "outputs": [
        {
          "output_type": "execute_result",
          "data": {
            "text/plain": [
              "36"
            ]
          },
          "metadata": {},
          "execution_count": 43
        }
      ]
    },
    {
      "cell_type": "markdown",
      "source": [
        "## *2025-04*"
      ],
      "metadata": {
        "id": "cFrGHkvq8kXI"
      }
    },
    {
      "cell_type": "code",
      "source": [
        "data_all_04 ='/content/drive/MyDrive/python2025/Data/2025-04'"
      ],
      "metadata": {
        "id": "4N6mBjgu8tj3"
      },
      "execution_count": 46,
      "outputs": []
    },
    {
      "cell_type": "code",
      "source": [
        "csv_files_04 = [f for f in os.listdir(data_all_04) if f.endswith('.csv')]"
      ],
      "metadata": {
        "id": "9mxmOr4R8tj4"
      },
      "execution_count": 47,
      "outputs": []
    },
    {
      "cell_type": "code",
      "source": [
        "select_files_04 = [file for file in csv_files_04 if 'stop-and-search' in file]\n",
        "len(select_files_04)\n",
        "\n",
        " # มี 37 เมือง"
      ],
      "metadata": {
        "colab": {
          "base_uri": "https://localhost:8080/"
        },
        "outputId": "f0992cc4-fefc-4894-a5b3-c48253bed053",
        "id": "SmA_1uLJ8tj6"
      },
      "execution_count": 48,
      "outputs": [
        {
          "output_type": "execute_result",
          "data": {
            "text/plain": [
              "36"
            ]
          },
          "metadata": {},
          "execution_count": 48
        }
      ]
    },
    {
      "cell_type": "markdown",
      "source": [
        "## 2025-05"
      ],
      "metadata": {
        "id": "ZZn55NK-_XVt"
      }
    },
    {
      "cell_type": "code",
      "source": [
        "data_all_05 = '/content/drive/MyDrive/python2025/Data/2025-05'"
      ],
      "metadata": {
        "id": "ObJOhmT0_XVt"
      },
      "execution_count": 55,
      "outputs": []
    },
    {
      "cell_type": "code",
      "source": [
        "csv_files_05 = [f for f in os.listdir(data_all_05) if f.endswith('.csv')]"
      ],
      "metadata": {
        "id": "k2qC8FxM_XVu"
      },
      "execution_count": 50,
      "outputs": []
    },
    {
      "cell_type": "code",
      "source": [
        "select_files_05 = [file for file in csv_files_05 if 'stop-and-search' in file]\n",
        "len(select_files_05)\n",
        "\n",
        " # มี 36 เมือง"
      ],
      "metadata": {
        "colab": {
          "base_uri": "https://localhost:8080/"
        },
        "outputId": "78dbefc4-856a-4e86-ded2-0eb81b229cd3",
        "id": "wcW2hsan_XVu"
      },
      "execution_count": 51,
      "outputs": [
        {
          "output_type": "execute_result",
          "data": {
            "text/plain": [
              "36"
            ]
          },
          "metadata": {},
          "execution_count": 51
        }
      ]
    },
    {
      "cell_type": "code",
      "source": [],
      "metadata": {
        "id": "xE3ObBJeFjqu"
      },
      "execution_count": null,
      "outputs": []
    },
    {
      "cell_type": "markdown",
      "source": [
        "## ดูว่าเดือนไหนมีเมืองอะไรบ้างและเดือนในไม่มีเมืองอะไร"
      ],
      "metadata": {
        "id": "rlZTx_YjFkFL"
      }
    },
    {
      "cell_type": "code",
      "metadata": {
        "colab": {
          "base_uri": "https://localhost:8080/",
          "height": 642
        },
        "outputId": "6c80cf37-8f46-4daa-d2dc-2b995f0609ae",
        "id": "4CjnViWVV8_j"
      },
      "source": [
        "may_df.head()"
      ],
      "execution_count": 71,
      "outputs": [
        {
          "output_type": "execute_result",
          "data": {
            "text/plain": [
              "            Type                       Date  Part of a policing operation  \\\n",
              "0  Person search  2025-05-01T15:15:52+00:00                           NaN   \n",
              "1  Person search  2025-05-01T18:54:29+00:00                           NaN   \n",
              "2  Person search  2025-05-01T20:41:52+00:00                           NaN   \n",
              "3  Person search  2025-05-01T20:46:35+00:00                           NaN   \n",
              "4  Person search  2025-05-01T21:28:28+00:00                           NaN   \n",
              "\n",
              "   Policing operation   Latitude  Longitude Gender Age range  \\\n",
              "0                 NaN  51.517461  -0.089808   Male     18-24   \n",
              "1                 NaN  51.513882  -0.095924   Male     18-24   \n",
              "2                 NaN  51.512024  -0.094460   Male   over 34   \n",
              "3                 NaN  51.511794  -0.101906   Male   over 34   \n",
              "4                 NaN  51.513079  -0.094070   Male   over 34   \n",
              "\n",
              "                              Self-defined ethnicity  \\\n",
              "0                       Asian/Asian British - Indian   \n",
              "1                    Other ethnic group - Not stated   \n",
              "2                    Other ethnic group - Not stated   \n",
              "3                 White - Any other White background   \n",
              "4  White - English/Welsh/Scottish/Northern Irish/...   \n",
              "\n",
              "  Officer-defined ethnicity  \\\n",
              "0                     Asian   \n",
              "1                     Black   \n",
              "2                     Other   \n",
              "3                     White   \n",
              "4                     White   \n",
              "\n",
              "                                         Legislation  \\\n",
              "0  Police and Criminal Evidence Act 1984 (section 1)   \n",
              "1  Police and Criminal Evidence Act 1984 (section 1)   \n",
              "2  Police and Criminal Evidence Act 1984 (section 1)   \n",
              "3  Police and Criminal Evidence Act 1984 (section 1)   \n",
              "4              Misuse of Drugs Act 1971 (section 23)   \n",
              "\n",
              "           Object of search                          Outcome  \\\n",
              "0  Article for use in theft     A no further action disposal   \n",
              "1  Article for use in theft  Caution (simple or conditional)   \n",
              "2  Article for use in theft             Community resolution   \n",
              "3              Stolen goods                           Arrest   \n",
              "4          Controlled drugs             Community resolution   \n",
              "\n",
              "   Outcome linked to object of search  \\\n",
              "0                               False   \n",
              "1                                True   \n",
              "2                                True   \n",
              "3                                True   \n",
              "4                                True   \n",
              "\n",
              "   Removal of more than just outer clothing  \n",
              "0                                     False  \n",
              "1                                     False  \n",
              "2                                     False  \n",
              "3                                     False  \n",
              "4                                     False  "
            ],
            "text/html": [
              "\n",
              "  <div id=\"df-324a6778-d714-48c3-9ceb-944d8ca0f7d2\" class=\"colab-df-container\">\n",
              "    <div>\n",
              "<style scoped>\n",
              "    .dataframe tbody tr th:only-of-type {\n",
              "        vertical-align: middle;\n",
              "    }\n",
              "\n",
              "    .dataframe tbody tr th {\n",
              "        vertical-align: top;\n",
              "    }\n",
              "\n",
              "    .dataframe thead th {\n",
              "        text-align: right;\n",
              "    }\n",
              "</style>\n",
              "<table border=\"1\" class=\"dataframe\">\n",
              "  <thead>\n",
              "    <tr style=\"text-align: right;\">\n",
              "      <th></th>\n",
              "      <th>Type</th>\n",
              "      <th>Date</th>\n",
              "      <th>Part of a policing operation</th>\n",
              "      <th>Policing operation</th>\n",
              "      <th>Latitude</th>\n",
              "      <th>Longitude</th>\n",
              "      <th>Gender</th>\n",
              "      <th>Age range</th>\n",
              "      <th>Self-defined ethnicity</th>\n",
              "      <th>Officer-defined ethnicity</th>\n",
              "      <th>Legislation</th>\n",
              "      <th>Object of search</th>\n",
              "      <th>Outcome</th>\n",
              "      <th>Outcome linked to object of search</th>\n",
              "      <th>Removal of more than just outer clothing</th>\n",
              "    </tr>\n",
              "  </thead>\n",
              "  <tbody>\n",
              "    <tr>\n",
              "      <th>0</th>\n",
              "      <td>Person search</td>\n",
              "      <td>2025-05-01T15:15:52+00:00</td>\n",
              "      <td>NaN</td>\n",
              "      <td>NaN</td>\n",
              "      <td>51.517461</td>\n",
              "      <td>-0.089808</td>\n",
              "      <td>Male</td>\n",
              "      <td>18-24</td>\n",
              "      <td>Asian/Asian British - Indian</td>\n",
              "      <td>Asian</td>\n",
              "      <td>Police and Criminal Evidence Act 1984 (section 1)</td>\n",
              "      <td>Article for use in theft</td>\n",
              "      <td>A no further action disposal</td>\n",
              "      <td>False</td>\n",
              "      <td>False</td>\n",
              "    </tr>\n",
              "    <tr>\n",
              "      <th>1</th>\n",
              "      <td>Person search</td>\n",
              "      <td>2025-05-01T18:54:29+00:00</td>\n",
              "      <td>NaN</td>\n",
              "      <td>NaN</td>\n",
              "      <td>51.513882</td>\n",
              "      <td>-0.095924</td>\n",
              "      <td>Male</td>\n",
              "      <td>18-24</td>\n",
              "      <td>Other ethnic group - Not stated</td>\n",
              "      <td>Black</td>\n",
              "      <td>Police and Criminal Evidence Act 1984 (section 1)</td>\n",
              "      <td>Article for use in theft</td>\n",
              "      <td>Caution (simple or conditional)</td>\n",
              "      <td>True</td>\n",
              "      <td>False</td>\n",
              "    </tr>\n",
              "    <tr>\n",
              "      <th>2</th>\n",
              "      <td>Person search</td>\n",
              "      <td>2025-05-01T20:41:52+00:00</td>\n",
              "      <td>NaN</td>\n",
              "      <td>NaN</td>\n",
              "      <td>51.512024</td>\n",
              "      <td>-0.094460</td>\n",
              "      <td>Male</td>\n",
              "      <td>over 34</td>\n",
              "      <td>Other ethnic group - Not stated</td>\n",
              "      <td>Other</td>\n",
              "      <td>Police and Criminal Evidence Act 1984 (section 1)</td>\n",
              "      <td>Article for use in theft</td>\n",
              "      <td>Community resolution</td>\n",
              "      <td>True</td>\n",
              "      <td>False</td>\n",
              "    </tr>\n",
              "    <tr>\n",
              "      <th>3</th>\n",
              "      <td>Person search</td>\n",
              "      <td>2025-05-01T20:46:35+00:00</td>\n",
              "      <td>NaN</td>\n",
              "      <td>NaN</td>\n",
              "      <td>51.511794</td>\n",
              "      <td>-0.101906</td>\n",
              "      <td>Male</td>\n",
              "      <td>over 34</td>\n",
              "      <td>White - Any other White background</td>\n",
              "      <td>White</td>\n",
              "      <td>Police and Criminal Evidence Act 1984 (section 1)</td>\n",
              "      <td>Stolen goods</td>\n",
              "      <td>Arrest</td>\n",
              "      <td>True</td>\n",
              "      <td>False</td>\n",
              "    </tr>\n",
              "    <tr>\n",
              "      <th>4</th>\n",
              "      <td>Person search</td>\n",
              "      <td>2025-05-01T21:28:28+00:00</td>\n",
              "      <td>NaN</td>\n",
              "      <td>NaN</td>\n",
              "      <td>51.513079</td>\n",
              "      <td>-0.094070</td>\n",
              "      <td>Male</td>\n",
              "      <td>over 34</td>\n",
              "      <td>White - English/Welsh/Scottish/Northern Irish/...</td>\n",
              "      <td>White</td>\n",
              "      <td>Misuse of Drugs Act 1971 (section 23)</td>\n",
              "      <td>Controlled drugs</td>\n",
              "      <td>Community resolution</td>\n",
              "      <td>True</td>\n",
              "      <td>False</td>\n",
              "    </tr>\n",
              "  </tbody>\n",
              "</table>\n",
              "</div>\n",
              "    <div class=\"colab-df-buttons\">\n",
              "\n",
              "  <div class=\"colab-df-container\">\n",
              "    <button class=\"colab-df-convert\" onclick=\"convertToInteractive('df-324a6778-d714-48c3-9ceb-944d8ca0f7d2')\"\n",
              "            title=\"Convert this dataframe to an interactive table.\"\n",
              "            style=\"display:none;\">\n",
              "\n",
              "  <svg xmlns=\"http://www.w3.org/2000/svg\" height=\"24px\" viewBox=\"0 -960 960 960\">\n",
              "    <path d=\"M120-120v-720h720v720H120Zm60-500h600v-160H180v160Zm220 220h160v-160H400v160Zm0 220h160v-160H400v160ZM180-400h160v-160H180v160Zm440 0h160v-160H620v160ZM180-180h160v-160H180v160Zm440 0h160v-160H620v160Z\"/>\n",
              "  </svg>\n",
              "    </button>\n",
              "\n",
              "  <style>\n",
              "    .colab-df-container {\n",
              "      display:flex;\n",
              "      gap: 12px;\n",
              "    }\n",
              "\n",
              "    .colab-df-convert {\n",
              "      background-color: #E8F0FE;\n",
              "      border: none;\n",
              "      border-radius: 50%;\n",
              "      cursor: pointer;\n",
              "      display: none;\n",
              "      fill: #1967D2;\n",
              "      height: 32px;\n",
              "      padding: 0 0 0 0;\n",
              "      width: 32px;\n",
              "    }\n",
              "\n",
              "    .colab-df-convert:hover {\n",
              "      background-color: #E2EBFA;\n",
              "      box-shadow: 0px 1px 2px rgba(60, 64, 67, 0.3), 0px 1px 3px 1px rgba(60, 64, 67, 0.15);\n",
              "      fill: #174EA6;\n",
              "    }\n",
              "\n",
              "    .colab-df-buttons div {\n",
              "      margin-bottom: 4px;\n",
              "    }\n",
              "\n",
              "    [theme=dark] .colab-df-convert {\n",
              "      background-color: #3B4455;\n",
              "      fill: #D2E3FC;\n",
              "    }\n",
              "\n",
              "    [theme=dark] .colab-df-convert:hover {\n",
              "      background-color: #434B5C;\n",
              "      box-shadow: 0px 1px 3px 1px rgba(0, 0, 0, 0.15);\n",
              "      filter: drop-shadow(0px 1px 2px rgba(0, 0, 0, 0.3));\n",
              "      fill: #FFFFFF;\n",
              "    }\n",
              "  </style>\n",
              "\n",
              "    <script>\n",
              "      const buttonEl =\n",
              "        document.querySelector('#df-324a6778-d714-48c3-9ceb-944d8ca0f7d2 button.colab-df-convert');\n",
              "      buttonEl.style.display =\n",
              "        google.colab.kernel.accessAllowed ? 'block' : 'none';\n",
              "\n",
              "      async function convertToInteractive(key) {\n",
              "        const element = document.querySelector('#df-324a6778-d714-48c3-9ceb-944d8ca0f7d2');\n",
              "        const dataTable =\n",
              "          await google.colab.kernel.invokeFunction('convertToInteractive',\n",
              "                                                    [key], {});\n",
              "        if (!dataTable) return;\n",
              "\n",
              "        const docLinkHtml = 'Like what you see? Visit the ' +\n",
              "          '<a target=\"_blank\" href=https://colab.research.google.com/notebooks/data_table.ipynb>data table notebook</a>'\n",
              "          + ' to learn more about interactive tables.';\n",
              "        element.innerHTML = '';\n",
              "        dataTable['output_type'] = 'display_data';\n",
              "        await google.colab.output.renderOutput(dataTable, element);\n",
              "        const docLink = document.createElement('div');\n",
              "        docLink.innerHTML = docLinkHtml;\n",
              "        element.appendChild(docLink);\n",
              "      }\n",
              "    </script>\n",
              "  </div>\n",
              "\n",
              "\n",
              "    <div id=\"df-3b5b7155-e756-4efc-806f-431c95c281b6\">\n",
              "      <button class=\"colab-df-quickchart\" onclick=\"quickchart('df-3b5b7155-e756-4efc-806f-431c95c281b6')\"\n",
              "                title=\"Suggest charts\"\n",
              "                style=\"display:none;\">\n",
              "\n",
              "<svg xmlns=\"http://www.w3.org/2000/svg\" height=\"24px\"viewBox=\"0 0 24 24\"\n",
              "     width=\"24px\">\n",
              "    <g>\n",
              "        <path d=\"M19 3H5c-1.1 0-2 .9-2 2v14c0 1.1.9 2 2 2h14c1.1 0 2-.9 2-2V5c0-1.1-.9-2-2-2zM9 17H7v-7h2v7zm4 0h-2V7h2v10zm4 0h-2v-4h2v4z\"/>\n",
              "    </g>\n",
              "</svg>\n",
              "      </button>\n",
              "\n",
              "<style>\n",
              "  .colab-df-quickchart {\n",
              "      --bg-color: #E8F0FE;\n",
              "      --fill-color: #1967D2;\n",
              "      --hover-bg-color: #E2EBFA;\n",
              "      --hover-fill-color: #174EA6;\n",
              "      --disabled-fill-color: #AAA;\n",
              "      --disabled-bg-color: #DDD;\n",
              "  }\n",
              "\n",
              "  [theme=dark] .colab-df-quickchart {\n",
              "      --bg-color: #3B4455;\n",
              "      --fill-color: #D2E3FC;\n",
              "      --hover-bg-color: #434B5C;\n",
              "      --hover-fill-color: #FFFFFF;\n",
              "      --disabled-bg-color: #3B4455;\n",
              "      --disabled-fill-color: #666;\n",
              "  }\n",
              "\n",
              "  .colab-df-quickchart {\n",
              "    background-color: var(--bg-color);\n",
              "    border: none;\n",
              "    border-radius: 50%;\n",
              "    cursor: pointer;\n",
              "    display: none;\n",
              "    fill: var(--fill-color);\n",
              "    height: 32px;\n",
              "    padding: 0;\n",
              "    width: 32px;\n",
              "  }\n",
              "\n",
              "  .colab-df-quickchart:hover {\n",
              "    background-color: var(--hover-bg-color);\n",
              "    box-shadow: 0 1px 2px rgba(60, 64, 67, 0.3), 0 1px 3px 1px rgba(60, 64, 67, 0.15);\n",
              "    fill: var(--button-hover-fill-color);\n",
              "  }\n",
              "\n",
              "  .colab-df-quickchart-complete:disabled,\n",
              "  .colab-df-quickchart-complete:disabled:hover {\n",
              "    background-color: var(--disabled-bg-color);\n",
              "    fill: var(--disabled-fill-color);\n",
              "    box-shadow: none;\n",
              "  }\n",
              "\n",
              "  .colab-df-spinner {\n",
              "    border: 2px solid var(--fill-color);\n",
              "    border-color: transparent;\n",
              "    border-bottom-color: var(--fill-color);\n",
              "    animation:\n",
              "      spin 1s steps(1) infinite;\n",
              "  }\n",
              "\n",
              "  @keyframes spin {\n",
              "    0% {\n",
              "      border-color: transparent;\n",
              "      border-bottom-color: var(--fill-color);\n",
              "      border-left-color: var(--fill-color);\n",
              "    }\n",
              "    20% {\n",
              "      border-color: transparent;\n",
              "      border-left-color: var(--fill-color);\n",
              "      border-top-color: var(--fill-color);\n",
              "    }\n",
              "    30% {\n",
              "      border-color: transparent;\n",
              "      border-left-color: var(--fill-color);\n",
              "      border-top-color: var(--fill-color);\n",
              "      border-right-color: var(--fill-color);\n",
              "    }\n",
              "    40% {\n",
              "      border-color: transparent;\n",
              "      border-right-color: var(--fill-color);\n",
              "      border-top-color: var(--fill-color);\n",
              "    }\n",
              "    60% {\n",
              "      border-color: transparent;\n",
              "      border-right-color: var(--fill-color);\n",
              "    }\n",
              "    80% {\n",
              "      border-color: transparent;\n",
              "      border-right-color: var(--fill-color);\n",
              "      border-bottom-color: var(--fill-color);\n",
              "    }\n",
              "    90% {\n",
              "      border-color: transparent;\n",
              "      border-bottom-color: var(--fill-color);\n",
              "    }\n",
              "  }\n",
              "</style>\n",
              "\n",
              "      <script>\n",
              "        async function quickchart(key) {\n",
              "          const quickchartButtonEl =\n",
              "            document.querySelector('#' + key + ' button');\n",
              "          quickchartButtonEl.disabled = true;  // To prevent multiple clicks.\n",
              "          quickchartButtonEl.classList.add('colab-df-spinner');\n",
              "          try {\n",
              "            const charts = await google.colab.kernel.invokeFunction(\n",
              "                'suggestCharts', [key], {});\n",
              "          } catch (error) {\n",
              "            console.error('Error during call to suggestCharts:', error);\n",
              "          }\n",
              "          quickchartButtonEl.classList.remove('colab-df-spinner');\n",
              "          quickchartButtonEl.classList.add('colab-df-quickchart-complete');\n",
              "        }\n",
              "        (() => {\n",
              "          let quickchartButtonEl =\n",
              "            document.querySelector('#df-3b5b7155-e756-4efc-806f-431c95c281b6 button');\n",
              "          quickchartButtonEl.style.display =\n",
              "            google.colab.kernel.accessAllowed ? 'block' : 'none';\n",
              "        })();\n",
              "      </script>\n",
              "    </div>\n",
              "\n",
              "    </div>\n",
              "  </div>\n"
            ],
            "application/vnd.google.colaboratory.intrinsic+json": {
              "type": "dataframe",
              "variable_name": "may_df",
              "summary": "{\n  \"name\": \"may_df\",\n  \"rows\": 150,\n  \"fields\": [\n    {\n      \"column\": \"Type\",\n      \"properties\": {\n        \"dtype\": \"category\",\n        \"num_unique_values\": 2,\n        \"samples\": [\n          \"Person and Vehicle search\",\n          \"Person search\"\n        ],\n        \"semantic_type\": \"\",\n        \"description\": \"\"\n      }\n    },\n    {\n      \"column\": \"Date\",\n      \"properties\": {\n        \"dtype\": \"object\",\n        \"num_unique_values\": 150,\n        \"samples\": [\n          \"2025-05-17T19:32:06+00:00\",\n          \"2025-05-03T02:37:39+00:00\"\n        ],\n        \"semantic_type\": \"\",\n        \"description\": \"\"\n      }\n    },\n    {\n      \"column\": \"Part of a policing operation\",\n      \"properties\": {\n        \"dtype\": \"number\",\n        \"std\": null,\n        \"min\": null,\n        \"max\": null,\n        \"num_unique_values\": 0,\n        \"samples\": [],\n        \"semantic_type\": \"\",\n        \"description\": \"\"\n      }\n    },\n    {\n      \"column\": \"Policing operation\",\n      \"properties\": {\n        \"dtype\": \"number\",\n        \"std\": null,\n        \"min\": null,\n        \"max\": null,\n        \"num_unique_values\": 0,\n        \"samples\": [],\n        \"semantic_type\": \"\",\n        \"description\": \"\"\n      }\n    },\n    {\n      \"column\": \"Latitude\",\n      \"properties\": {\n        \"dtype\": \"number\",\n        \"std\": 0.0037084643899436163,\n        \"min\": 51.506419,\n        \"max\": 51.532021,\n        \"num_unique_values\": 66,\n        \"samples\": [],\n        \"semantic_type\": \"\",\n        \"description\": \"\"\n      }\n    },\n    {\n      \"column\": \"Longitude\",\n      \"properties\": {\n        \"dtype\": \"number\",\n        \"std\": 0.01140395087845069,\n        \"min\": -0.116009,\n        \"max\": -0.059771,\n        \"num_unique_values\": 67,\n        \"samples\": [],\n        \"semantic_type\": \"\",\n        \"description\": \"\"\n      }\n    },\n    {\n      \"column\": \"Gender\",\n      \"properties\": {\n        \"dtype\": \"category\",\n        \"num_unique_values\": 3,\n        \"samples\": [],\n        \"semantic_type\": \"\",\n        \"description\": \"\"\n      }\n    },\n    {\n      \"column\": \"Age range\",\n      \"properties\": {\n        \"dtype\": \"category\",\n        \"num_unique_values\": 4,\n        \"samples\": [],\n        \"semantic_type\": \"\",\n        \"description\": \"\"\n      }\n    },\n    {\n      \"column\": \"Self-defined ethnicity\",\n      \"properties\": {\n        \"dtype\": \"category\",\n        \"num_unique_values\": 15,\n        \"samples\": [],\n        \"semantic_type\": \"\",\n        \"description\": \"\"\n      }\n    },\n    {\n      \"column\": \"Officer-defined ethnicity\",\n      \"properties\": {\n        \"dtype\": \"category\",\n        \"num_unique_values\": 4,\n        \"samples\": [],\n        \"semantic_type\": \"\",\n        \"description\": \"\"\n      }\n    },\n    {\n      \"column\": \"Legislation\",\n      \"properties\": {\n        \"dtype\": \"category\",\n        \"num_unique_values\": 4,\n        \"samples\": [],\n        \"semantic_type\": \"\",\n        \"description\": \"\"\n      }\n    },\n    {\n      \"column\": \"Object of search\",\n      \"properties\": {\n        \"dtype\": \"category\",\n        \"num_unique_values\": 8,\n        \"samples\": [],\n        \"semantic_type\": \"\",\n        \"description\": \"\"\n      }\n    },\n    {\n      \"column\": \"Outcome\",\n      \"properties\": {\n        \"dtype\": \"category\",\n        \"num_unique_values\": 4,\n        \"samples\": [],\n        \"semantic_type\": \"\",\n        \"description\": \"\"\n      }\n    },\n    {\n      \"column\": \"Outcome linked to object of search\",\n      \"properties\": {\n        \"dtype\": \"boolean\",\n        \"num_unique_values\": 2,\n        \"samples\": [],\n        \"semantic_type\": \"\",\n        \"description\": \"\"\n      }\n    },\n    {\n      \"column\": \"Removal of more than just outer clothing\",\n      \"properties\": {\n        \"dtype\": \"boolean\",\n        \"num_unique_values\": 2,\n        \"samples\": [],\n        \"semantic_type\": \"\",\n        \"description\": \"\"\n      }\n    }\n  ]\n}"
            }
          },
          "metadata": {},
          "execution_count": 71
        }
      ]
    },
    {
      "cell_type": "markdown",
      "source": [
        "## ยอดรวมทั้ง 5 เดือน เมืองไหนมีจำนวนผู้ถูกเรียกค้นที่เป็นคน Asia น้อยที่สุด และ มากที่สุด"
      ],
      "metadata": {
        "id": "eEakjMY5NTju"
      }
    },
    {
      "cell_type": "code",
      "source": [
        "# รายการลิสต์ของไฟล์ที่เลือกสำหรับแต่ละเดือน\n",
        "all_selected_files = [select_01, select_files_02, select_files_03, select_files_04, select_files_05]\n",
        "data_all_paths = [data_all_01, data_all_02, data_all_03, data_all_04, data_all_05]\n",
        "\n",
        "# สร้างลิสต์ว่างเพื่อเก็บ dataframes\n",
        "df_list = []\n",
        "\n",
        "# วนลูปผ่านข้อมูลของแต่ละเดือน\n",
        "for month_files, month_path in zip(all_selected_files, data_all_paths):\n",
        "    # วนลูปผ่านไฟล์ที่เลือกในแต่ละเดือน\n",
        "    for file_name in month_files:\n",
        "        file_path = os.path.join(month_path, file_name)\n",
        "        # แยกชื่อเมืองออกจากชื่อไฟล์\n",
        "        city_name = file_name.split('-stop-and-search')[0].split('-', 2)[-1]\n",
        "        try:\n",
        "            # อ่านไฟล์ CSV\n",
        "            df = pd.read_csv(file_path)\n",
        "            # เพิ่มคอลัมน์ 'City'\n",
        "            df['City'] = city_name\n",
        "            # เพิ่ม dataframe ไปยังลิสต์\n",
        "            df_list.append(df)\n",
        "        except Exception as e:\n",
        "            print(f\"ข้อผิดพลาดในการอ่านไฟล์ {file_path}: {e}\")\n",
        "\n",
        "# นำ dataframes ทั้งหมดมารวมกันเป็น dataframe เดียว\n",
        "if df_list:\n",
        "    all_data_df = pd.concat(df_list, ignore_index=True)\n",
        "\n",
        "    # กรองข้อมูลเฉพาะบันทึกการหยุดตรวจค้นที่มีเชื้อชาติเป็น 'Asian'\n",
        "    asian_stop_and_search = all_data_df[all_data_df['Self-defined ethnicity'].str.contains('Asian', na=False)]\n",
        "\n",
        "    # นับจำนวนเหตุการณ์หยุดตรวจค้นของคน Asian ในแต่ละเมือง\n",
        "    asian_counts_by_city = asian_stop_and_search['City'].value_counts().reset_index()\n",
        "    asian_counts_by_city.columns = ['City', 'Asian_Stop_and_Search_Count']\n",
        "\n",
        "    # ค้นหาเมืองที่มีจำนวนน้อยที่สุดและมากที่สุด\n",
        "    min_city = asian_counts_by_city.loc[asian_counts_by_city['Asian_Stop_and_Search_Count'].idxmin()]\n",
        "    max_city = asian_counts_by_city.loc[asian_counts_by_city['Asian_Stop_and_Search_Count'].idxmax()]\n",
        "\n",
        "    print(\"📉 เมืองที่มีจำนวนการหยุดตรวจค้นบุคคลเชื้อชาติ Asian **น้อยที่สุด** ตลอด 5 เดือน:\")\n",
        "    print(f\"➡️ เมือง: {min_city['City']}, จำนวนครั้ง: {min_city['Asian_Stop_and_Search_Count']} ครั้ง\\n\")\n",
        "\n",
        "    print(\"📈 เมืองที่มีจำนวนการหยุดตรวจค้นบุคคลเชื้อชาติ Asian **มากที่สุด** ตลอด 5 เดือน:\")\n",
        "    print(f\"➡️ เมือง: {max_city['City']}, จำนวนครั้ง: {max_city['Asian_Stop_and_Search_Count']} ครั้ง\")\n",
        "\n",
        "else:\n",
        "    print(\"ไม่พบข้อมูล dataframe ที่โหลดได้\")"
      ],
      "metadata": {
        "colab": {
          "base_uri": "https://localhost:8080/"
        },
        "id": "nkzhg4YrFoZf",
        "outputId": "3f68c058-5a94-48c5-c5ae-36351c912c2c"
      },
      "execution_count": 74,
      "outputs": [
        {
          "output_type": "stream",
          "name": "stdout",
          "text": [
            "📉 เมืองที่มีจำนวนการหยุดตรวจค้นบุคคลเชื้อชาติ Asian **น้อยที่สุด** ตลอด 5 เดือน:\n",
            "➡️ เมือง: durham, จำนวนครั้ง: 5 ครั้ง\n",
            "\n",
            "📈 เมืองที่มีจำนวนการหยุดตรวจค้นบุคคลเชื้อชาติ Asian **มากที่สุด** ตลอด 5 เดือน:\n",
            "➡️ เมือง: west-midlands, จำนวนครั้ง: 2104 ครั้ง\n"
          ]
        }
      ]
    },
    {
      "cell_type": "code",
      "metadata": {
        "colab": {
          "base_uri": "https://localhost:8080/",
          "height": 1000
        },
        "id": "423d3f74",
        "outputId": "6516d3a0-04a7-4525-8c7a-ffd1aa92c3af"
      },
      "source": [
        "# ตรวจสอบให้แน่ใจว่าคอลัมน์ 'Date' อยู่ในรูปแบบ datetime\n",
        "all_data_df['Date'] = pd.to_datetime(all_data_df['Date'], errors='coerce')\n",
        "\n",
        "# แยกเดือนและปีและแปลงเป็นสตริง\n",
        "all_data_df['Month_Year'] = all_data_df['Date'].dt.to_period('M').astype(str)\n",
        "\n",
        "\n",
        "# กรองข้อมูลสำหรับบันทึกการหยุดตรวจค้นที่เชื้อชาติเป็น 'Asian'\n",
        "asian_stop_and_search = all_data_df[all_data_df['Self-defined ethnicity'].str.contains('Asian', na=False)]\n",
        "\n",
        "# จัดกลุ่มตามเมืองและเดือน/ปี และนับจำนวนเหตุการณ์\n",
        "asian_monthly_counts = asian_stop_and_search.groupby(['City', 'Month_Year']).size().reset_index(name='Asian_Stop_and_Search_Count')\n",
        "\n",
        "# Pivot ตารางเพื่อให้เมืองเป็นแถวและเดือนเป็นคอลัมน์\n",
        "asian_monthly_pivot = asian_monthly_counts.pivot_table(\n",
        "    index='City',\n",
        "    columns='Month_Year',\n",
        "    values='Asian_Stop_and_Search_Count'\n",
        ").fillna(0).astype(int) # เติมค่าที่หายไปด้วย 0 และแปลงเป็นจำนวนเต็ม\n",
        "\n",
        "# เพิ่มคอลัมน์ยอดรวม\n",
        "asian_monthly_pivot['Total'] = asian_monthly_pivot.sum(axis=1)\n",
        "\n",
        "# กำหนดฟังก์ชันสำหรับไฮไลท์ค่าต่ำสุดและสูงสุดในคอลัมน์ 'Total'\n",
        "def highlight_min_max_total(s):\n",
        "    is_min = s == s.min()\n",
        "    is_max = s == s.max()\n",
        "    return ['background-color: green' if v_max or v_min else '' for v_min, v_max in zip(is_min, is_max)]\n",
        "\n",
        "\n",
        "print(\"จำนวนเหตุการณ์หยุดตรวจค้นคน Asian ในแต่ละเมืองแยกตามเดือนพร้อมยอดรวมและไฮไลท์:\")\n",
        "\n",
        "# ใช้ไฮไลท์กับคอลัมน์ 'Total'\n",
        "styled_df = asian_monthly_pivot.style.apply(highlight_min_max_total, subset=['Total'])\n",
        "\n",
        "display(styled_df)"
      ],
      "execution_count": 76,
      "outputs": [
        {
          "output_type": "stream",
          "name": "stdout",
          "text": [
            "จำนวนเหตุการณ์หยุดตรวจค้นคน Asian ในแต่ละเมืองแยกตามเดือนพร้อมยอดรวมและไฮไลท์:\n"
          ]
        },
        {
          "output_type": "stream",
          "name": "stderr",
          "text": [
            "/tmp/ipython-input-3630920935.py:5: UserWarning: Converting to PeriodArray/Index representation will drop timezone information.\n",
            "  all_data_df['Month_Year'] = all_data_df['Date'].dt.to_period('M').astype(str)\n"
          ]
        },
        {
          "output_type": "display_data",
          "data": {
            "text/plain": [
              "<pandas.io.formats.style.Styler at 0x7d8975757c50>"
            ],
            "text/html": [
              "<style type=\"text/css\">\n",
              "#T_22c6a_row11_col5, #T_22c6a_row36_col5 {\n",
              "  background-color: green;\n",
              "}\n",
              "</style>\n",
              "<table id=\"T_22c6a\" class=\"dataframe\">\n",
              "  <thead>\n",
              "    <tr>\n",
              "      <th class=\"index_name level0\" >Month_Year</th>\n",
              "      <th id=\"T_22c6a_level0_col0\" class=\"col_heading level0 col0\" >2025-01</th>\n",
              "      <th id=\"T_22c6a_level0_col1\" class=\"col_heading level0 col1\" >2025-02</th>\n",
              "      <th id=\"T_22c6a_level0_col2\" class=\"col_heading level0 col2\" >2025-03</th>\n",
              "      <th id=\"T_22c6a_level0_col3\" class=\"col_heading level0 col3\" >2025-04</th>\n",
              "      <th id=\"T_22c6a_level0_col4\" class=\"col_heading level0 col4\" >2025-05</th>\n",
              "      <th id=\"T_22c6a_level0_col5\" class=\"col_heading level0 col5\" >Total</th>\n",
              "    </tr>\n",
              "    <tr>\n",
              "      <th class=\"index_name level0\" >City</th>\n",
              "      <th class=\"blank col0\" >&nbsp;</th>\n",
              "      <th class=\"blank col1\" >&nbsp;</th>\n",
              "      <th class=\"blank col2\" >&nbsp;</th>\n",
              "      <th class=\"blank col3\" >&nbsp;</th>\n",
              "      <th class=\"blank col4\" >&nbsp;</th>\n",
              "      <th class=\"blank col5\" >&nbsp;</th>\n",
              "    </tr>\n",
              "  </thead>\n",
              "  <tbody>\n",
              "    <tr>\n",
              "      <th id=\"T_22c6a_level0_row0\" class=\"row_heading level0 row0\" >avon-and-somerset</th>\n",
              "      <td id=\"T_22c6a_row0_col0\" class=\"data row0 col0\" >11</td>\n",
              "      <td id=\"T_22c6a_row0_col1\" class=\"data row0 col1\" >7</td>\n",
              "      <td id=\"T_22c6a_row0_col2\" class=\"data row0 col2\" >0</td>\n",
              "      <td id=\"T_22c6a_row0_col3\" class=\"data row0 col3\" >0</td>\n",
              "      <td id=\"T_22c6a_row0_col4\" class=\"data row0 col4\" >11</td>\n",
              "      <td id=\"T_22c6a_row0_col5\" class=\"data row0 col5\" >29</td>\n",
              "    </tr>\n",
              "    <tr>\n",
              "      <th id=\"T_22c6a_level0_row1\" class=\"row_heading level0 row1\" >bedfordshire</th>\n",
              "      <td id=\"T_22c6a_row1_col0\" class=\"data row1 col0\" >69</td>\n",
              "      <td id=\"T_22c6a_row1_col1\" class=\"data row1 col1\" >51</td>\n",
              "      <td id=\"T_22c6a_row1_col2\" class=\"data row1 col2\" >71</td>\n",
              "      <td id=\"T_22c6a_row1_col3\" class=\"data row1 col3\" >60</td>\n",
              "      <td id=\"T_22c6a_row1_col4\" class=\"data row1 col4\" >71</td>\n",
              "      <td id=\"T_22c6a_row1_col5\" class=\"data row1 col5\" >322</td>\n",
              "    </tr>\n",
              "    <tr>\n",
              "      <th id=\"T_22c6a_level0_row2\" class=\"row_heading level0 row2\" >btp</th>\n",
              "      <td id=\"T_22c6a_row2_col0\" class=\"data row2 col0\" >133</td>\n",
              "      <td id=\"T_22c6a_row2_col1\" class=\"data row2 col1\" >85</td>\n",
              "      <td id=\"T_22c6a_row2_col2\" class=\"data row2 col2\" >116</td>\n",
              "      <td id=\"T_22c6a_row2_col3\" class=\"data row2 col3\" >98</td>\n",
              "      <td id=\"T_22c6a_row2_col4\" class=\"data row2 col4\" >92</td>\n",
              "      <td id=\"T_22c6a_row2_col5\" class=\"data row2 col5\" >524</td>\n",
              "    </tr>\n",
              "    <tr>\n",
              "      <th id=\"T_22c6a_level0_row3\" class=\"row_heading level0 row3\" >cambridgeshire</th>\n",
              "      <td id=\"T_22c6a_row3_col0\" class=\"data row3 col0\" >35</td>\n",
              "      <td id=\"T_22c6a_row3_col1\" class=\"data row3 col1\" >18</td>\n",
              "      <td id=\"T_22c6a_row3_col2\" class=\"data row3 col2\" >23</td>\n",
              "      <td id=\"T_22c6a_row3_col3\" class=\"data row3 col3\" >28</td>\n",
              "      <td id=\"T_22c6a_row3_col4\" class=\"data row3 col4\" >16</td>\n",
              "      <td id=\"T_22c6a_row3_col5\" class=\"data row3 col5\" >120</td>\n",
              "    </tr>\n",
              "    <tr>\n",
              "      <th id=\"T_22c6a_level0_row4\" class=\"row_heading level0 row4\" >cheshire</th>\n",
              "      <td id=\"T_22c6a_row4_col0\" class=\"data row4 col0\" >18</td>\n",
              "      <td id=\"T_22c6a_row4_col1\" class=\"data row4 col1\" >36</td>\n",
              "      <td id=\"T_22c6a_row4_col2\" class=\"data row4 col2\" >25</td>\n",
              "      <td id=\"T_22c6a_row4_col3\" class=\"data row4 col3\" >31</td>\n",
              "      <td id=\"T_22c6a_row4_col4\" class=\"data row4 col4\" >39</td>\n",
              "      <td id=\"T_22c6a_row4_col5\" class=\"data row4 col5\" >149</td>\n",
              "    </tr>\n",
              "    <tr>\n",
              "      <th id=\"T_22c6a_level0_row5\" class=\"row_heading level0 row5\" >city-of-london</th>\n",
              "      <td id=\"T_22c6a_row5_col0\" class=\"data row5 col0\" >19</td>\n",
              "      <td id=\"T_22c6a_row5_col1\" class=\"data row5 col1\" >18</td>\n",
              "      <td id=\"T_22c6a_row5_col2\" class=\"data row5 col2\" >19</td>\n",
              "      <td id=\"T_22c6a_row5_col3\" class=\"data row5 col3\" >9</td>\n",
              "      <td id=\"T_22c6a_row5_col4\" class=\"data row5 col4\" >19</td>\n",
              "      <td id=\"T_22c6a_row5_col5\" class=\"data row5 col5\" >84</td>\n",
              "    </tr>\n",
              "    <tr>\n",
              "      <th id=\"T_22c6a_level0_row6\" class=\"row_heading level0 row6\" >cleveland</th>\n",
              "      <td id=\"T_22c6a_row6_col0\" class=\"data row6 col0\" >17</td>\n",
              "      <td id=\"T_22c6a_row6_col1\" class=\"data row6 col1\" >22</td>\n",
              "      <td id=\"T_22c6a_row6_col2\" class=\"data row6 col2\" >28</td>\n",
              "      <td id=\"T_22c6a_row6_col3\" class=\"data row6 col3\" >26</td>\n",
              "      <td id=\"T_22c6a_row6_col4\" class=\"data row6 col4\" >32</td>\n",
              "      <td id=\"T_22c6a_row6_col5\" class=\"data row6 col5\" >125</td>\n",
              "    </tr>\n",
              "    <tr>\n",
              "      <th id=\"T_22c6a_level0_row7\" class=\"row_heading level0 row7\" >cumbria</th>\n",
              "      <td id=\"T_22c6a_row7_col0\" class=\"data row7 col0\" >25</td>\n",
              "      <td id=\"T_22c6a_row7_col1\" class=\"data row7 col1\" >18</td>\n",
              "      <td id=\"T_22c6a_row7_col2\" class=\"data row7 col2\" >16</td>\n",
              "      <td id=\"T_22c6a_row7_col3\" class=\"data row7 col3\" >20</td>\n",
              "      <td id=\"T_22c6a_row7_col4\" class=\"data row7 col4\" >15</td>\n",
              "      <td id=\"T_22c6a_row7_col5\" class=\"data row7 col5\" >94</td>\n",
              "    </tr>\n",
              "    <tr>\n",
              "      <th id=\"T_22c6a_level0_row8\" class=\"row_heading level0 row8\" >derbyshire</th>\n",
              "      <td id=\"T_22c6a_row8_col0\" class=\"data row8 col0\" >23</td>\n",
              "      <td id=\"T_22c6a_row8_col1\" class=\"data row8 col1\" >21</td>\n",
              "      <td id=\"T_22c6a_row8_col2\" class=\"data row8 col2\" >17</td>\n",
              "      <td id=\"T_22c6a_row8_col3\" class=\"data row8 col3\" >22</td>\n",
              "      <td id=\"T_22c6a_row8_col4\" class=\"data row8 col4\" >0</td>\n",
              "      <td id=\"T_22c6a_row8_col5\" class=\"data row8 col5\" >83</td>\n",
              "    </tr>\n",
              "    <tr>\n",
              "      <th id=\"T_22c6a_level0_row9\" class=\"row_heading level0 row9\" >devon-and-cornwall</th>\n",
              "      <td id=\"T_22c6a_row9_col0\" class=\"data row9 col0\" >7</td>\n",
              "      <td id=\"T_22c6a_row9_col1\" class=\"data row9 col1\" >8</td>\n",
              "      <td id=\"T_22c6a_row9_col2\" class=\"data row9 col2\" >8</td>\n",
              "      <td id=\"T_22c6a_row9_col3\" class=\"data row9 col3\" >6</td>\n",
              "      <td id=\"T_22c6a_row9_col4\" class=\"data row9 col4\" >6</td>\n",
              "      <td id=\"T_22c6a_row9_col5\" class=\"data row9 col5\" >35</td>\n",
              "    </tr>\n",
              "    <tr>\n",
              "      <th id=\"T_22c6a_level0_row10\" class=\"row_heading level0 row10\" >dorset</th>\n",
              "      <td id=\"T_22c6a_row10_col0\" class=\"data row10 col0\" >7</td>\n",
              "      <td id=\"T_22c6a_row10_col1\" class=\"data row10 col1\" >4</td>\n",
              "      <td id=\"T_22c6a_row10_col2\" class=\"data row10 col2\" >0</td>\n",
              "      <td id=\"T_22c6a_row10_col3\" class=\"data row10 col3\" >4</td>\n",
              "      <td id=\"T_22c6a_row10_col4\" class=\"data row10 col4\" >3</td>\n",
              "      <td id=\"T_22c6a_row10_col5\" class=\"data row10 col5\" >18</td>\n",
              "    </tr>\n",
              "    <tr>\n",
              "      <th id=\"T_22c6a_level0_row11\" class=\"row_heading level0 row11\" >durham</th>\n",
              "      <td id=\"T_22c6a_row11_col0\" class=\"data row11 col0\" >0</td>\n",
              "      <td id=\"T_22c6a_row11_col1\" class=\"data row11 col1\" >1</td>\n",
              "      <td id=\"T_22c6a_row11_col2\" class=\"data row11 col2\" >2</td>\n",
              "      <td id=\"T_22c6a_row11_col3\" class=\"data row11 col3\" >0</td>\n",
              "      <td id=\"T_22c6a_row11_col4\" class=\"data row11 col4\" >2</td>\n",
              "      <td id=\"T_22c6a_row11_col5\" class=\"data row11 col5\" >5</td>\n",
              "    </tr>\n",
              "    <tr>\n",
              "      <th id=\"T_22c6a_level0_row12\" class=\"row_heading level0 row12\" >dyfed-powys</th>\n",
              "      <td id=\"T_22c6a_row12_col0\" class=\"data row12 col0\" >3</td>\n",
              "      <td id=\"T_22c6a_row12_col1\" class=\"data row12 col1\" >2</td>\n",
              "      <td id=\"T_22c6a_row12_col2\" class=\"data row12 col2\" >12</td>\n",
              "      <td id=\"T_22c6a_row12_col3\" class=\"data row12 col3\" >5</td>\n",
              "      <td id=\"T_22c6a_row12_col4\" class=\"data row12 col4\" >2</td>\n",
              "      <td id=\"T_22c6a_row12_col5\" class=\"data row12 col5\" >24</td>\n",
              "    </tr>\n",
              "    <tr>\n",
              "      <th id=\"T_22c6a_level0_row13\" class=\"row_heading level0 row13\" >essex</th>\n",
              "      <td id=\"T_22c6a_row13_col0\" class=\"data row13 col0\" >36</td>\n",
              "      <td id=\"T_22c6a_row13_col1\" class=\"data row13 col1\" >44</td>\n",
              "      <td id=\"T_22c6a_row13_col2\" class=\"data row13 col2\" >33</td>\n",
              "      <td id=\"T_22c6a_row13_col3\" class=\"data row13 col3\" >25</td>\n",
              "      <td id=\"T_22c6a_row13_col4\" class=\"data row13 col4\" >32</td>\n",
              "      <td id=\"T_22c6a_row13_col5\" class=\"data row13 col5\" >170</td>\n",
              "    </tr>\n",
              "    <tr>\n",
              "      <th id=\"T_22c6a_level0_row14\" class=\"row_heading level0 row14\" >gloucestershire</th>\n",
              "      <td id=\"T_22c6a_row14_col0\" class=\"data row14 col0\" >4</td>\n",
              "      <td id=\"T_22c6a_row14_col1\" class=\"data row14 col1\" >11</td>\n",
              "      <td id=\"T_22c6a_row14_col2\" class=\"data row14 col2\" >6</td>\n",
              "      <td id=\"T_22c6a_row14_col3\" class=\"data row14 col3\" >4</td>\n",
              "      <td id=\"T_22c6a_row14_col4\" class=\"data row14 col4\" >2</td>\n",
              "      <td id=\"T_22c6a_row14_col5\" class=\"data row14 col5\" >27</td>\n",
              "    </tr>\n",
              "    <tr>\n",
              "      <th id=\"T_22c6a_level0_row15\" class=\"row_heading level0 row15\" >hampshire</th>\n",
              "      <td id=\"T_22c6a_row15_col0\" class=\"data row15 col0\" >48</td>\n",
              "      <td id=\"T_22c6a_row15_col1\" class=\"data row15 col1\" >44</td>\n",
              "      <td id=\"T_22c6a_row15_col2\" class=\"data row15 col2\" >61</td>\n",
              "      <td id=\"T_22c6a_row15_col3\" class=\"data row15 col3\" >58</td>\n",
              "      <td id=\"T_22c6a_row15_col4\" class=\"data row15 col4\" >64</td>\n",
              "      <td id=\"T_22c6a_row15_col5\" class=\"data row15 col5\" >275</td>\n",
              "    </tr>\n",
              "    <tr>\n",
              "      <th id=\"T_22c6a_level0_row16\" class=\"row_heading level0 row16\" >hertfordshire</th>\n",
              "      <td id=\"T_22c6a_row16_col0\" class=\"data row16 col0\" >43</td>\n",
              "      <td id=\"T_22c6a_row16_col1\" class=\"data row16 col1\" >24</td>\n",
              "      <td id=\"T_22c6a_row16_col2\" class=\"data row16 col2\" >37</td>\n",
              "      <td id=\"T_22c6a_row16_col3\" class=\"data row16 col3\" >32</td>\n",
              "      <td id=\"T_22c6a_row16_col4\" class=\"data row16 col4\" >46</td>\n",
              "      <td id=\"T_22c6a_row16_col5\" class=\"data row16 col5\" >182</td>\n",
              "    </tr>\n",
              "    <tr>\n",
              "      <th id=\"T_22c6a_level0_row17\" class=\"row_heading level0 row17\" >kent</th>\n",
              "      <td id=\"T_22c6a_row17_col0\" class=\"data row17 col0\" >15</td>\n",
              "      <td id=\"T_22c6a_row17_col1\" class=\"data row17 col1\" >33</td>\n",
              "      <td id=\"T_22c6a_row17_col2\" class=\"data row17 col2\" >41</td>\n",
              "      <td id=\"T_22c6a_row17_col3\" class=\"data row17 col3\" >39</td>\n",
              "      <td id=\"T_22c6a_row17_col4\" class=\"data row17 col4\" >34</td>\n",
              "      <td id=\"T_22c6a_row17_col5\" class=\"data row17 col5\" >162</td>\n",
              "    </tr>\n",
              "    <tr>\n",
              "      <th id=\"T_22c6a_level0_row18\" class=\"row_heading level0 row18\" >lancashire</th>\n",
              "      <td id=\"T_22c6a_row18_col0\" class=\"data row18 col0\" >356</td>\n",
              "      <td id=\"T_22c6a_row18_col1\" class=\"data row18 col1\" >231</td>\n",
              "      <td id=\"T_22c6a_row18_col2\" class=\"data row18 col2\" >239</td>\n",
              "      <td id=\"T_22c6a_row18_col3\" class=\"data row18 col3\" >241</td>\n",
              "      <td id=\"T_22c6a_row18_col4\" class=\"data row18 col4\" >234</td>\n",
              "      <td id=\"T_22c6a_row18_col5\" class=\"data row18 col5\" >1301</td>\n",
              "    </tr>\n",
              "    <tr>\n",
              "      <th id=\"T_22c6a_level0_row19\" class=\"row_heading level0 row19\" >leicestershire</th>\n",
              "      <td id=\"T_22c6a_row19_col0\" class=\"data row19 col0\" >56</td>\n",
              "      <td id=\"T_22c6a_row19_col1\" class=\"data row19 col1\" >46</td>\n",
              "      <td id=\"T_22c6a_row19_col2\" class=\"data row19 col2\" >41</td>\n",
              "      <td id=\"T_22c6a_row19_col3\" class=\"data row19 col3\" >34</td>\n",
              "      <td id=\"T_22c6a_row19_col4\" class=\"data row19 col4\" >49</td>\n",
              "      <td id=\"T_22c6a_row19_col5\" class=\"data row19 col5\" >226</td>\n",
              "    </tr>\n",
              "    <tr>\n",
              "      <th id=\"T_22c6a_level0_row20\" class=\"row_heading level0 row20\" >merseyside</th>\n",
              "      <td id=\"T_22c6a_row20_col0\" class=\"data row20 col0\" >150</td>\n",
              "      <td id=\"T_22c6a_row20_col1\" class=\"data row20 col1\" >90</td>\n",
              "      <td id=\"T_22c6a_row20_col2\" class=\"data row20 col2\" >0</td>\n",
              "      <td id=\"T_22c6a_row20_col3\" class=\"data row20 col3\" >0</td>\n",
              "      <td id=\"T_22c6a_row20_col4\" class=\"data row20 col4\" >121</td>\n",
              "      <td id=\"T_22c6a_row20_col5\" class=\"data row20 col5\" >361</td>\n",
              "    </tr>\n",
              "    <tr>\n",
              "      <th id=\"T_22c6a_level0_row21\" class=\"row_heading level0 row21\" >metropolitan</th>\n",
              "      <td id=\"T_22c6a_row21_col0\" class=\"data row21 col0\" >494</td>\n",
              "      <td id=\"T_22c6a_row21_col1\" class=\"data row21 col1\" >518</td>\n",
              "      <td id=\"T_22c6a_row21_col2\" class=\"data row21 col2\" >486</td>\n",
              "      <td id=\"T_22c6a_row21_col3\" class=\"data row21 col3\" >535</td>\n",
              "      <td id=\"T_22c6a_row21_col4\" class=\"data row21 col4\" >0</td>\n",
              "      <td id=\"T_22c6a_row21_col5\" class=\"data row21 col5\" >2033</td>\n",
              "    </tr>\n",
              "    <tr>\n",
              "      <th id=\"T_22c6a_level0_row22\" class=\"row_heading level0 row22\" >norfolk</th>\n",
              "      <td id=\"T_22c6a_row22_col0\" class=\"data row22 col0\" >1</td>\n",
              "      <td id=\"T_22c6a_row22_col1\" class=\"data row22 col1\" >2</td>\n",
              "      <td id=\"T_22c6a_row22_col2\" class=\"data row22 col2\" >3</td>\n",
              "      <td id=\"T_22c6a_row22_col3\" class=\"data row22 col3\" >3</td>\n",
              "      <td id=\"T_22c6a_row22_col4\" class=\"data row22 col4\" >1</td>\n",
              "      <td id=\"T_22c6a_row22_col5\" class=\"data row22 col5\" >10</td>\n",
              "    </tr>\n",
              "    <tr>\n",
              "      <th id=\"T_22c6a_level0_row23\" class=\"row_heading level0 row23\" >north-wales</th>\n",
              "      <td id=\"T_22c6a_row23_col0\" class=\"data row23 col0\" >2</td>\n",
              "      <td id=\"T_22c6a_row23_col1\" class=\"data row23 col1\" >0</td>\n",
              "      <td id=\"T_22c6a_row23_col2\" class=\"data row23 col2\" >4</td>\n",
              "      <td id=\"T_22c6a_row23_col3\" class=\"data row23 col3\" >9</td>\n",
              "      <td id=\"T_22c6a_row23_col4\" class=\"data row23 col4\" >4</td>\n",
              "      <td id=\"T_22c6a_row23_col5\" class=\"data row23 col5\" >19</td>\n",
              "    </tr>\n",
              "    <tr>\n",
              "      <th id=\"T_22c6a_level0_row24\" class=\"row_heading level0 row24\" >northamptonshire</th>\n",
              "      <td id=\"T_22c6a_row24_col0\" class=\"data row24 col0\" >18</td>\n",
              "      <td id=\"T_22c6a_row24_col1\" class=\"data row24 col1\" >16</td>\n",
              "      <td id=\"T_22c6a_row24_col2\" class=\"data row24 col2\" >5</td>\n",
              "      <td id=\"T_22c6a_row24_col3\" class=\"data row24 col3\" >12</td>\n",
              "      <td id=\"T_22c6a_row24_col4\" class=\"data row24 col4\" >7</td>\n",
              "      <td id=\"T_22c6a_row24_col5\" class=\"data row24 col5\" >58</td>\n",
              "    </tr>\n",
              "    <tr>\n",
              "      <th id=\"T_22c6a_level0_row25\" class=\"row_heading level0 row25\" >northumbria</th>\n",
              "      <td id=\"T_22c6a_row25_col0\" class=\"data row25 col0\" >36</td>\n",
              "      <td id=\"T_22c6a_row25_col1\" class=\"data row25 col1\" >42</td>\n",
              "      <td id=\"T_22c6a_row25_col2\" class=\"data row25 col2\" >42</td>\n",
              "      <td id=\"T_22c6a_row25_col3\" class=\"data row25 col3\" >50</td>\n",
              "      <td id=\"T_22c6a_row25_col4\" class=\"data row25 col4\" >39</td>\n",
              "      <td id=\"T_22c6a_row25_col5\" class=\"data row25 col5\" >209</td>\n",
              "    </tr>\n",
              "    <tr>\n",
              "      <th id=\"T_22c6a_level0_row26\" class=\"row_heading level0 row26\" >nottinghamshire</th>\n",
              "      <td id=\"T_22c6a_row26_col0\" class=\"data row26 col0\" >13</td>\n",
              "      <td id=\"T_22c6a_row26_col1\" class=\"data row26 col1\" >16</td>\n",
              "      <td id=\"T_22c6a_row26_col2\" class=\"data row26 col2\" >11</td>\n",
              "      <td id=\"T_22c6a_row26_col3\" class=\"data row26 col3\" >9</td>\n",
              "      <td id=\"T_22c6a_row26_col4\" class=\"data row26 col4\" >12</td>\n",
              "      <td id=\"T_22c6a_row26_col5\" class=\"data row26 col5\" >61</td>\n",
              "    </tr>\n",
              "    <tr>\n",
              "      <th id=\"T_22c6a_level0_row27\" class=\"row_heading level0 row27\" >south-wales</th>\n",
              "      <td id=\"T_22c6a_row27_col0\" class=\"data row27 col0\" >14</td>\n",
              "      <td id=\"T_22c6a_row27_col1\" class=\"data row27 col1\" >17</td>\n",
              "      <td id=\"T_22c6a_row27_col2\" class=\"data row27 col2\" >13</td>\n",
              "      <td id=\"T_22c6a_row27_col3\" class=\"data row27 col3\" >20</td>\n",
              "      <td id=\"T_22c6a_row27_col4\" class=\"data row27 col4\" >27</td>\n",
              "      <td id=\"T_22c6a_row27_col5\" class=\"data row27 col5\" >91</td>\n",
              "    </tr>\n",
              "    <tr>\n",
              "      <th id=\"T_22c6a_level0_row28\" class=\"row_heading level0 row28\" >south-yorkshire</th>\n",
              "      <td id=\"T_22c6a_row28_col0\" class=\"data row28 col0\" >126</td>\n",
              "      <td id=\"T_22c6a_row28_col1\" class=\"data row28 col1\" >54</td>\n",
              "      <td id=\"T_22c6a_row28_col2\" class=\"data row28 col2\" >81</td>\n",
              "      <td id=\"T_22c6a_row28_col3\" class=\"data row28 col3\" >79</td>\n",
              "      <td id=\"T_22c6a_row28_col4\" class=\"data row28 col4\" >103</td>\n",
              "      <td id=\"T_22c6a_row28_col5\" class=\"data row28 col5\" >443</td>\n",
              "    </tr>\n",
              "    <tr>\n",
              "      <th id=\"T_22c6a_level0_row29\" class=\"row_heading level0 row29\" >staffordshire</th>\n",
              "      <td id=\"T_22c6a_row29_col0\" class=\"data row29 col0\" >0</td>\n",
              "      <td id=\"T_22c6a_row29_col1\" class=\"data row29 col1\" >68</td>\n",
              "      <td id=\"T_22c6a_row29_col2\" class=\"data row29 col2\" >42</td>\n",
              "      <td id=\"T_22c6a_row29_col3\" class=\"data row29 col3\" >49</td>\n",
              "      <td id=\"T_22c6a_row29_col4\" class=\"data row29 col4\" >46</td>\n",
              "      <td id=\"T_22c6a_row29_col5\" class=\"data row29 col5\" >205</td>\n",
              "    </tr>\n",
              "    <tr>\n",
              "      <th id=\"T_22c6a_level0_row30\" class=\"row_heading level0 row30\" >suffolk</th>\n",
              "      <td id=\"T_22c6a_row30_col0\" class=\"data row30 col0\" >3</td>\n",
              "      <td id=\"T_22c6a_row30_col1\" class=\"data row30 col1\" >5</td>\n",
              "      <td id=\"T_22c6a_row30_col2\" class=\"data row30 col2\" >5</td>\n",
              "      <td id=\"T_22c6a_row30_col3\" class=\"data row30 col3\" >5</td>\n",
              "      <td id=\"T_22c6a_row30_col4\" class=\"data row30 col4\" >4</td>\n",
              "      <td id=\"T_22c6a_row30_col5\" class=\"data row30 col5\" >22</td>\n",
              "    </tr>\n",
              "    <tr>\n",
              "      <th id=\"T_22c6a_level0_row31\" class=\"row_heading level0 row31\" >surrey</th>\n",
              "      <td id=\"T_22c6a_row31_col0\" class=\"data row31 col0\" >36</td>\n",
              "      <td id=\"T_22c6a_row31_col1\" class=\"data row31 col1\" >56</td>\n",
              "      <td id=\"T_22c6a_row31_col2\" class=\"data row31 col2\" >18</td>\n",
              "      <td id=\"T_22c6a_row31_col3\" class=\"data row31 col3\" >25</td>\n",
              "      <td id=\"T_22c6a_row31_col4\" class=\"data row31 col4\" >17</td>\n",
              "      <td id=\"T_22c6a_row31_col5\" class=\"data row31 col5\" >152</td>\n",
              "    </tr>\n",
              "    <tr>\n",
              "      <th id=\"T_22c6a_level0_row32\" class=\"row_heading level0 row32\" >sussex</th>\n",
              "      <td id=\"T_22c6a_row32_col0\" class=\"data row32 col0\" >21</td>\n",
              "      <td id=\"T_22c6a_row32_col1\" class=\"data row32 col1\" >16</td>\n",
              "      <td id=\"T_22c6a_row32_col2\" class=\"data row32 col2\" >16</td>\n",
              "      <td id=\"T_22c6a_row32_col3\" class=\"data row32 col3\" >14</td>\n",
              "      <td id=\"T_22c6a_row32_col4\" class=\"data row32 col4\" >15</td>\n",
              "      <td id=\"T_22c6a_row32_col5\" class=\"data row32 col5\" >82</td>\n",
              "    </tr>\n",
              "    <tr>\n",
              "      <th id=\"T_22c6a_level0_row33\" class=\"row_heading level0 row33\" >thames-valley</th>\n",
              "      <td id=\"T_22c6a_row33_col0\" class=\"data row33 col0\" >173</td>\n",
              "      <td id=\"T_22c6a_row33_col1\" class=\"data row33 col1\" >99</td>\n",
              "      <td id=\"T_22c6a_row33_col2\" class=\"data row33 col2\" >154</td>\n",
              "      <td id=\"T_22c6a_row33_col3\" class=\"data row33 col3\" >155</td>\n",
              "      <td id=\"T_22c6a_row33_col4\" class=\"data row33 col4\" >137</td>\n",
              "      <td id=\"T_22c6a_row33_col5\" class=\"data row33 col5\" >718</td>\n",
              "    </tr>\n",
              "    <tr>\n",
              "      <th id=\"T_22c6a_level0_row34\" class=\"row_heading level0 row34\" >warwickshire</th>\n",
              "      <td id=\"T_22c6a_row34_col0\" class=\"data row34 col0\" >12</td>\n",
              "      <td id=\"T_22c6a_row34_col1\" class=\"data row34 col1\" >5</td>\n",
              "      <td id=\"T_22c6a_row34_col2\" class=\"data row34 col2\" >10</td>\n",
              "      <td id=\"T_22c6a_row34_col3\" class=\"data row34 col3\" >11</td>\n",
              "      <td id=\"T_22c6a_row34_col4\" class=\"data row34 col4\" >8</td>\n",
              "      <td id=\"T_22c6a_row34_col5\" class=\"data row34 col5\" >46</td>\n",
              "    </tr>\n",
              "    <tr>\n",
              "      <th id=\"T_22c6a_level0_row35\" class=\"row_heading level0 row35\" >west-mercia</th>\n",
              "      <td id=\"T_22c6a_row35_col0\" class=\"data row35 col0\" >21</td>\n",
              "      <td id=\"T_22c6a_row35_col1\" class=\"data row35 col1\" >18</td>\n",
              "      <td id=\"T_22c6a_row35_col2\" class=\"data row35 col2\" >7</td>\n",
              "      <td id=\"T_22c6a_row35_col3\" class=\"data row35 col3\" >23</td>\n",
              "      <td id=\"T_22c6a_row35_col4\" class=\"data row35 col4\" >16</td>\n",
              "      <td id=\"T_22c6a_row35_col5\" class=\"data row35 col5\" >85</td>\n",
              "    </tr>\n",
              "    <tr>\n",
              "      <th id=\"T_22c6a_level0_row36\" class=\"row_heading level0 row36\" >west-midlands</th>\n",
              "      <td id=\"T_22c6a_row36_col0\" class=\"data row36 col0\" >449</td>\n",
              "      <td id=\"T_22c6a_row36_col1\" class=\"data row36 col1\" >461</td>\n",
              "      <td id=\"T_22c6a_row36_col2\" class=\"data row36 col2\" >396</td>\n",
              "      <td id=\"T_22c6a_row36_col3\" class=\"data row36 col3\" >431</td>\n",
              "      <td id=\"T_22c6a_row36_col4\" class=\"data row36 col4\" >367</td>\n",
              "      <td id=\"T_22c6a_row36_col5\" class=\"data row36 col5\" >2104</td>\n",
              "    </tr>\n",
              "    <tr>\n",
              "      <th id=\"T_22c6a_level0_row37\" class=\"row_heading level0 row37\" >west-yorkshire</th>\n",
              "      <td id=\"T_22c6a_row37_col0\" class=\"data row37 col0\" >380</td>\n",
              "      <td id=\"T_22c6a_row37_col1\" class=\"data row37 col1\" >37</td>\n",
              "      <td id=\"T_22c6a_row37_col2\" class=\"data row37 col2\" >43</td>\n",
              "      <td id=\"T_22c6a_row37_col3\" class=\"data row37 col3\" >37</td>\n",
              "      <td id=\"T_22c6a_row37_col4\" class=\"data row37 col4\" >40</td>\n",
              "      <td id=\"T_22c6a_row37_col5\" class=\"data row37 col5\" >537</td>\n",
              "    </tr>\n",
              "  </tbody>\n",
              "</table>\n"
            ]
          },
          "metadata": {}
        }
      ]
    },
    {
      "cell_type": "code",
      "source": [],
      "metadata": {
        "id": "lEuO5R0YN5vO"
      },
      "execution_count": null,
      "outputs": []
    },
    {
      "cell_type": "markdown",
      "source": [
        "## เพิ่มเติม --- เปรียบเทียบผลลัพธ์ --ข้อมูลเมืองครบกับไม่ครบ"
      ],
      "metadata": {
        "id": "dLICwjPKNeA3"
      }
    },
    {
      "cell_type": "code",
      "metadata": {
        "colab": {
          "base_uri": "https://localhost:8080/"
        },
        "id": "f7b1925a",
        "outputId": "b4b8e342-9dbe-498c-fe60-6e6df320de3c"
      },
      "source": [
        "# สมมติว่า all_data_df, df_cities, min_city, และ max_city มีอยู่จากการทำงานก่อนหน้า\n",
        "\n",
        "# ดึงรายการเมืองที่มีข้อมูลครบทั้ง 5 เดือนจาก DataFrame df_cities\n",
        "try:\n",
        "    รายการเมือง_ครบ_5_เดือน = df_cities[df_cities['Present in all 5 months'] == 'Yes']['City'].tolist()\n",
        "except NameError:\n",
        "    print(\"ข้อผิดพลาด: 'df_cities' ยังไม่ได้ถูกกำหนด กรุณารันเซลล์ที่ระบุเมืองที่มีข้อมูลครบทุกเดือนก่อน\")\n",
        "    รายการเมือง_ครบ_5_เดือน = [] # กำหนดเป็นรายการว่างเพื่อป้องกันข้อผิดพลาดเพิ่มเติม\n",
        "\n",
        "if รายการเมือง_ครบ_5_เดือน:\n",
        "    # กรอง DataFrame หลักเพื่อรวมเฉพาะข้อมูลจากเมืองที่มีข้อมูลครบทั้ง 5 เดือน\n",
        "    ข้อมูลเมืองที่เชื่อถือได้_df = all_data_df[all_data_df['City'].isin(รายการเมือง_ครบ_5_เดือน)]\n",
        "\n",
        "    # กรองสำหรับบันทึกการหยุดตรวจค้นที่เชื้อชาติเป็น 'Asian'\n",
        "    ข้อมูลคนเอเชีย_เมืองที่เชื่อถือได้ = ข้อมูลเมืองที่เชื่อถือได้_df[ข้อมูลเมืองที่เชื่อถือได้_df['Self-defined ethnicity'].str.contains('Asian', na=False)]\n",
        "\n",
        "    # นับจำนวนเหตุการณ์หยุดตรวจค้นคน Asian ต่อเมืองในเมืองที่เชื่อถือได้\n",
        "    จำนวนคนเอเชีย_ต่อเมือง_เชื่อถือได้ = ข้อมูลคนเอเชีย_เมืองที่เชื่อถือได้['City'].value_counts().reset_index()\n",
        "    จำนวนคนเอเชีย_ต่อเมือง_เชื่อถือได้.columns = ['เมือง', 'จำนวนการหยุดตรวจค้น_คนเอเชีย']\n",
        "\n",
        "    # ค้นหาเมืองที่มีจำนวนน้อยที่สุดและมากที่สุดในกลุ่มเมืองที่เชื่อถือได้\n",
        "    เมือง_น้อยที่สุด_เชื่อถือได้ = จำนวนคนเอเชีย_ต่อเมือง_เชื่อถือได้.loc[จำนวนคนเอเชีย_ต่อเมือง_เชื่อถือได้['จำนวนการหยุดตรวจค้น_คนเอเชีย'].idxmin()]\n",
        "    เมือง_มากที่สุด_เชื่อถือได้ = จำนวนคนเอเชีย_ต่อเมือง_เชื่อถือได้.loc[จำนวนคนเอเชีย_ต่อเมือง_เชื่อถือได้['จำนวนการหยุดตรวจค้น_คนเอเชีย'].idxmax()]\n",
        "\n",
        "    print(\"--- เปรียบเทียบผลลัพธ์ ---\")\n",
        "\n",
        "    print(\"\\nผลลัพธ์จากการพิจารณาเมืองทั้งหมด (ที่ปรากฏในอย่างน้อยหนึ่งเดือน):\")\n",
        "    # สมมติว่า min_city และ max_city มีอยู่\n",
        "    try:\n",
        "        print(f\"📉 เมืองที่มีจำนวนการหยุดตรวจค้นน้อยที่สุด: {min_city['City']}, จำนวนครั้ง: {min_city['Asian_Stop_and_Search_Count']} ครั้ง\")\n",
        "        print(f\"📈 เมืองที่มีจำนวนการหยุดตรวจค้นมากที่สุด: {max_city['City']}, จำนวนครั้ง: {max_city['Asian_Stop_and_Search_Count']} ครั้ง\")\n",
        "    except NameError:\n",
        "        print(\"ข้อผิดพลาด: 'min_city' หรือ 'max_city' ยังไม่ได้ถูกกำหนด กรุณารันเซลล์ที่คำนวณค่าเหล่านี้สำหรับเมืองทั้งหมดก่อน\")\n",
        "\n",
        "\n",
        "    print(\"\\nผลลัพธ์จากการพิจารณาเฉพาะเมืองที่มีข้อมูลครบทั้ง 5 เดือน:\")\n",
        "    print(f\"📉 เมืองที่มีจำนวนการหยุดตรวจค้นน้อยที่สุด: {เมือง_น้อยที่สุด_เชื่อถือได้['เมือง']}, จำนวนครั้ง: {เมือง_น้อยที่สุด_เชื่อถือได้['จำนวนการหยุดตรวจค้น_คนเอเชีย']} ครั้ง\")\n",
        "    print(f\"📈 เมืองที่มีจำนวนการหยุดตรวจค้นมากที่สุด: {เมือง_มากที่สุด_เชื่อถือได้['เมือง']}, จำนวนครั้ง: {เมือง_มากที่สุด_เชื่อถือได้['จำนวนการหยุดตรวจค้น_คนเอเชีย']} ครั้ง\")\n",
        "\n",
        "else:\n",
        "    print(\"ไม่สามารถทำการวิเคราะห์ได้ เนื่องจากไม่มีรายชื่อเมืองที่มีข้อมูลครบ 5 เดือน หรือมีข้อผิดพลาดในการดึงข้อมูลรายชื่อเมือง\")"
      ],
      "execution_count": 77,
      "outputs": [
        {
          "output_type": "stream",
          "name": "stdout",
          "text": [
            "--- เปรียบเทียบผลลัพธ์ ---\n",
            "\n",
            "ผลลัพธ์จากการพิจารณาเมืองทั้งหมด (ที่ปรากฏในอย่างน้อยหนึ่งเดือน):\n",
            "📉 เมืองที่มีจำนวนการหยุดตรวจค้นน้อยที่สุด: durham, จำนวนครั้ง: 5 ครั้ง\n",
            "📈 เมืองที่มีจำนวนการหยุดตรวจค้นมากที่สุด: west-midlands, จำนวนครั้ง: 2104 ครั้ง\n",
            "\n",
            "ผลลัพธ์จากการพิจารณาเฉพาะเมืองที่มีข้อมูลครบทั้ง 5 เดือน:\n",
            "📉 เมืองที่มีจำนวนการหยุดตรวจค้นน้อยที่สุด: durham, จำนวนครั้ง: 5 ครั้ง\n",
            "📈 เมืองที่มีจำนวนการหยุดตรวจค้นมากที่สุด: west-midlands, จำนวนครั้ง: 2104 ครั้ง\n"
          ]
        }
      ]
    },
    {
      "cell_type": "markdown",
      "source": [
        "ผลลัพธ์ที่ได้ไม่แตกต่างกัน"
      ],
      "metadata": {
        "id": "0K7pH6P0YoBf"
      }
    },
    {
      "cell_type": "code",
      "metadata": {
        "colab": {
          "base_uri": "https://localhost:8080/"
        },
        "id": "26537660",
        "outputId": "31a04b16-bc5a-4c5e-dbde-e74db1dc7733"
      },
      "source": [
        "import os\n",
        "\n",
        "# Define paths for all months\n",
        "data_paths = {\n",
        "    '01': '/content/drive/MyDrive/Python&datavizz2025/data/2025-01',\n",
        "    '02': '/content/drive/MyDrive/Python&datavizz2025/data/2025-02',\n",
        "    '03': '/content/drive/MyDrive/Python&datavizz2025/data/2025-03',\n",
        "    '04': '/content/drive/MyDrive/Python&datavizz2025/data/2025-04',\n",
        "    '05': '/content/drive/MyDrive/Python&datavizz2025/data/2025-05',\n",
        "}\n",
        "\n",
        "all_cities = set()\n",
        "cities_per_month = {}\n",
        "\n",
        "# Loop through each month to find cities\n",
        "for month, path in data_paths.items():\n",
        "    try:\n",
        "        # List all stop-and-search csv files\n",
        "        files = [f for f in os.listdir(path) if 'stop-and-search' in f and f.endswith('.csv')]\n",
        "\n",
        "        # Extract city names\n",
        "        cities = set([file.split('-stop-and-search')[0].split('-', 2)[-1] for file in files])\n",
        "\n",
        "        # Store the number of cities for the month\n",
        "        cities_per_month[f\"2025-{month}\"] = len(cities)\n",
        "\n",
        "        # Add to the set of all unique cities\n",
        "        all_cities.update(cities)\n",
        "\n",
        "    except FileNotFoundError:\n",
        "        print(f\"Directory not found for 2025-{month}: {path}\")\n",
        "    except Exception as e:\n",
        "        print(f\"An error occurred for 2025-{month}: {e}\")\n",
        "\n",
        "# Print the number of cities per month\n",
        "print(\"จำนวนเมืองในแต่ละเดือน:\")\n",
        "for month, count in sorted(cities_per_month.items()):\n",
        "    print(f\"- {month}: {count} เมือง\")\n",
        "\n",
        "# Print the total number of unique cities\n",
        "print(f\"\\nมีเมืองที่ไม่ซ้ำกันทั้งหมด {len(all_cities)} เมือง ตลอด 5 เดือน\")"
      ],
      "execution_count": 78,
      "outputs": [
        {
          "output_type": "stream",
          "name": "stdout",
          "text": [
            "Directory not found for 2025-01: /content/drive/MyDrive/Python&datavizz2025/data/2025-01\n",
            "Directory not found for 2025-02: /content/drive/MyDrive/Python&datavizz2025/data/2025-02\n",
            "Directory not found for 2025-03: /content/drive/MyDrive/Python&datavizz2025/data/2025-03\n",
            "Directory not found for 2025-04: /content/drive/MyDrive/Python&datavizz2025/data/2025-04\n",
            "Directory not found for 2025-05: /content/drive/MyDrive/Python&datavizz2025/data/2025-05\n",
            "จำนวนเมืองในแต่ละเดือน:\n",
            "\n",
            "มีเมืองที่ไม่ซ้ำกันทั้งหมด 0 เมือง ตลอด 5 เดือน\n"
          ]
        }
      ]
    },
    {
      "cell_type": "code",
      "source": [
        "# รายการลิสต์ของไฟล์ที่เลือกสำหรับแต่ละเดือน\n",
        "all_selected_files = [select_01, select_files_02, select_files_03, select_files_04, select_files_05]\n",
        "data_all_paths = [data_all_01, data_all_02, data_all_03, data_all_04, data_all_05]\n",
        "\n",
        "# สร้างลิสต์ว่างเพื่อเก็บ dataframes\n",
        "df_list = []\n",
        "\n",
        "# วนลูปผ่านข้อมูลของแต่ละเดือน\n",
        "for month_files, month_path in zip(all_selected_files, data_all_paths):\n",
        "    # วนลูปผ่านไฟล์ที่เลือกในแต่ละเดือน\n",
        "    for file_name in month_files:\n",
        "        file_path = os.path.join(month_path, file_name)\n",
        "        # แยกชื่อเมืองออกจากชื่อไฟล์\n",
        "        city_name = file_name.split('-stop-and-search')[0].split('-', 2)[-1]\n",
        "        try:\n",
        "            # อ่านไฟล์ CSV\n",
        "            df = pd.read_csv(file_path)\n",
        "            # เพิ่มคอลัมน์ 'City'\n",
        "            df['City'] = city_name\n",
        "            # เพิ่ม dataframe ไปยังลิสต์\n",
        "            df_list.append(df)\n",
        "        except Exception as e:\n",
        "            print(f\"ข้อผิดพลาดในการอ่านไฟล์ {file_path}: {e}\")\n",
        "\n",
        "# นำ dataframes ทั้งหมดมารวมกันเป็น dataframe เดียว\n",
        "if df_list:\n",
        "    all_data_df = pd.concat(df_list, ignore_index=True)\n",
        "\n",
        "    # กรองข้อมูลเฉพาะบันทึกการหยุดตรวจค้นที่มีเชื้อชาติเป็น 'Asian'\n",
        "    asian_stop_and_search = all_data_df[all_data_df['Self-defined ethnicity'].str.contains('Asian', na=False)]\n",
        "\n",
        "    # นับจำนวนเหตุการณ์หยุดตรวจค้นของคน Asian ในแต่ละเมือง\n",
        "    asian_counts_by_city = asian_stop_and_search['City'].value_counts().reset_index()\n",
        "    asian_counts_by_city.columns = ['City', 'Asian_Stop_and_Search_Count']\n",
        "\n",
        "    # ค้นหาเมืองที่มีจำนวนน้อยที่สุดและมากที่สุด\n",
        "    min_city = asian_counts_by_city.loc[asian_counts_by_city['Asian_Stop_and_Search_Count'].idxmin()]\n",
        "    max_city = asian_counts_by_city.loc[asian_counts_by_city['Asian_Stop_and_Search_Count'].idxmax()]\n",
        "\n",
        "    print(\"📉 เมืองที่มีจำนวนการหยุดตรวจค้นบุคคลเชื้อชาติ Asian **น้อยที่สุด** ตลอด 5 เดือน:\")\n",
        "    print(f\"➡️ เมือง: {min_city['City']}, จำนวนครั้ง: {min_city['Asian_Stop_and_Search_Count']} ครั้ง\\n\")\n",
        "\n",
        "    print(\"📈 เมืองที่มีจำนวนการหยุดตรวจค้นบุคคลเชื้อชาติ Asian **มากที่สุด** ตลอด 5 เดือน:\")\n",
        "    print(f\"➡️ เมือง: {max_city['City']}, จำนวนครั้ง: {max_city['Asian_Stop_and_Search_Count']} ครั้ง\")\n",
        "\n",
        "else:\n",
        "    print(\"ไม่พบข้อมูล dataframe ที่โหลดได้\")"
      ],
      "metadata": {
        "colab": {
          "base_uri": "https://localhost:8080/"
        },
        "outputId": "0488ce78-532a-4795-9daa-c6214448d643",
        "id": "hs22VD_tpAAH"
      },
      "execution_count": 79,
      "outputs": [
        {
          "output_type": "stream",
          "name": "stdout",
          "text": [
            "📉 เมืองที่มีจำนวนการหยุดตรวจค้นบุคคลเชื้อชาติ Asian **น้อยที่สุด** ตลอด 5 เดือน:\n",
            "➡️ เมือง: durham, จำนวนครั้ง: 5 ครั้ง\n",
            "\n",
            "📈 เมืองที่มีจำนวนการหยุดตรวจค้นบุคคลเชื้อชาติ Asian **มากที่สุด** ตลอด 5 เดือน:\n",
            "➡️ เมือง: west-midlands, จำนวนครั้ง: 2104 ครั้ง\n"
          ]
        }
      ]
    },
    {
      "cell_type": "code",
      "metadata": {
        "id": "h3f_KihrV5q3"
      },
      "source": [
        "may_data_path = '/content/drive/MyDrive/python2025/Data/2025-05/2025-05-city-of-london-stop-and-search.csv'"
      ],
      "execution_count": 68,
      "outputs": []
    },
    {
      "cell_type": "code",
      "metadata": {
        "id": "YpZUa-zZV66K"
      },
      "source": [
        "may_df = pd.read_csv(may_data_path)"
      ],
      "execution_count": 69,
      "outputs": []
    }
  ]
}