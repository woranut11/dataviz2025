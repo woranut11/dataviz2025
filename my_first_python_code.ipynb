{
  "nbformat": 4,
  "nbformat_minor": 0,
  "metadata": {
    "colab": {
      "provenance": [],
      "authorship_tag": "ABX9TyNeSM0QhPnpHYVMF7YbnvXT",
      "include_colab_link": true
    },
    "kernelspec": {
      "name": "python3",
      "display_name": "Python 3"
    },
    "language_info": {
      "name": "python"
    }
  },
  "cells": [
    {
      "cell_type": "markdown",
      "metadata": {
        "id": "view-in-github",
        "colab_type": "text"
      },
      "source": [
        "<a href=\"https://colab.research.google.com/github/woranut11/dataviz2025/blob/main/my_first_python_code.ipynb\" target=\"_parent\"><img src=\"https://colab.research.google.com/assets/colab-badge.svg\" alt=\"Open In Colab\"/></a>"
      ]
    },
    {
      "cell_type": "code",
      "source": [],
      "metadata": {
        "id": "5acmqgTXH2_d"
      },
      "execution_count": null,
      "outputs": []
    },
    {
      "cell_type": "markdown",
      "source": [
        "Here we can write using **Markdown**"
      ],
      "metadata": {
        "id": "MWsgaj75Hzej"
      }
    },
    {
      "cell_type": "markdown",
      "source": [
        "#intro#"
      ],
      "metadata": {
        "id": "Gs-Pea26IP19"
      }
    },
    {
      "cell_type": "markdown",
      "source": [
        "##name##"
      ],
      "metadata": {
        "id": "DdEu59-BIU71"
      }
    },
    {
      "cell_type": "code",
      "source": [
        "print(\"woranut\")"
      ],
      "metadata": {
        "colab": {
          "base_uri": "https://localhost:8080/"
        },
        "id": "bLe7e2FYJIkU",
        "outputId": "a2b82013-ed04-4be9-ee0d-88bbe90b47d1"
      },
      "execution_count": 1,
      "outputs": [
        {
          "output_type": "stream",
          "name": "stdout",
          "text": [
            "woranut\n"
          ]
        }
      ]
    },
    {
      "cell_type": "markdown",
      "source": [
        "##sername##"
      ],
      "metadata": {
        "id": "kBBgOzU-JWds"
      }
    },
    {
      "cell_type": "code",
      "execution_count": null,
      "metadata": {
        "id": "RmF2k8FfG1TD"
      },
      "outputs": [],
      "source": [
        "print(\"\")"
      ]
    }
  ]
}